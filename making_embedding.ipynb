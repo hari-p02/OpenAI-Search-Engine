{
 "cells": [
  {
   "cell_type": "code",
   "execution_count": 9,
   "metadata": {},
   "outputs": [
    {
     "name": "stderr",
     "output_type": "stream",
     "text": [
      "C:\\Users\\harik\\anaconda3\\lib\\site-packages\\pinecone\\index.py:4: TqdmExperimentalWarning: Using `tqdm.autonotebook.tqdm` in notebook mode. Use `tqdm.tqdm` instead to force console mode (e.g. in jupyter console)\n",
      "  from tqdm.autonotebook import tqdm\n"
     ]
    }
   ],
   "source": [
    "import numpy as np\n",
    "import openai\n",
    "from retrying import retry\n",
    "import pandas as pd\n",
    "import pinecone\n",
    "import itertools\n",
    "from dotenv import load_dotenv\n",
    "import os"
   ]
  },
  {
   "cell_type": "code",
   "execution_count": 2,
   "metadata": {},
   "outputs": [
    {
     "data": {
      "text/html": [
       "<div>\n",
       "<style scoped>\n",
       "    .dataframe tbody tr th:only-of-type {\n",
       "        vertical-align: middle;\n",
       "    }\n",
       "\n",
       "    .dataframe tbody tr th {\n",
       "        vertical-align: top;\n",
       "    }\n",
       "\n",
       "    .dataframe thead th {\n",
       "        text-align: right;\n",
       "    }\n",
       "</style>\n",
       "<table border=\"1\" class=\"dataframe\">\n",
       "  <thead>\n",
       "    <tr style=\"text-align: right;\">\n",
       "      <th></th>\n",
       "      <th>Club Names</th>\n",
       "      <th>Club Short Descriptions</th>\n",
       "      <th>Club Long Descriptions</th>\n",
       "      <th>Club Urls</th>\n",
       "    </tr>\n",
       "  </thead>\n",
       "  <tbody>\n",
       "    <tr>\n",
       "      <th>0</th>\n",
       "      <td>4H Vernon Afterschool</td>\n",
       "      <td>Are you ready to make a difference in a child'...</td>\n",
       "      <td>4-H Vernon After School Enrichment Club throug...</td>\n",
       "      <td>https://uconntact.uconn.edu/organization/co4hv...</td>\n",
       "    </tr>\n",
       "    <tr>\n",
       "      <th>1</th>\n",
       "      <td>A Completely Different Note</td>\n",
       "      <td>A Completely Different Note (CDN), UCONN's old...</td>\n",
       "      <td>NaN</td>\n",
       "      <td>https://uconntact.uconn.edu/organization/acomp...</td>\n",
       "    </tr>\n",
       "    <tr>\n",
       "      <th>2</th>\n",
       "      <td>A.P. Christian Youth - Avery Point Campus</td>\n",
       "      <td>We are God believing Youth who want to spread ...</td>\n",
       "      <td>Bible Studies\\nSocial Gatherings\\nPrayer Meeti...</td>\n",
       "      <td>https://uconntact.uconn.edu/organization/apchr...</td>\n",
       "    </tr>\n",
       "    <tr>\n",
       "      <th>3</th>\n",
       "      <td>Academic Achievement Center</td>\n",
       "      <td>The Academic Achievement Center assists studen...</td>\n",
       "      <td>NaN</td>\n",
       "      <td>https://uconntact.uconn.edu/organization/aac</td>\n",
       "    </tr>\n",
       "    <tr>\n",
       "      <th>4</th>\n",
       "      <td>Accounting Society</td>\n",
       "      <td>The Accounting Society has weekly meetings wit...</td>\n",
       "      <td>The Accounting Society works very closely with...</td>\n",
       "      <td>https://uconntact.uconn.edu/organization/accou...</td>\n",
       "    </tr>\n",
       "  </tbody>\n",
       "</table>\n",
       "</div>"
      ],
      "text/plain": [
       "                                  Club Names  \\\n",
       "0                      4H Vernon Afterschool   \n",
       "1                A Completely Different Note   \n",
       "2  A.P. Christian Youth - Avery Point Campus   \n",
       "3                Academic Achievement Center   \n",
       "4                         Accounting Society   \n",
       "\n",
       "                             Club Short Descriptions  \\\n",
       "0  Are you ready to make a difference in a child'...   \n",
       "1  A Completely Different Note (CDN), UCONN's old...   \n",
       "2  We are God believing Youth who want to spread ...   \n",
       "3  The Academic Achievement Center assists studen...   \n",
       "4  The Accounting Society has weekly meetings wit...   \n",
       "\n",
       "                              Club Long Descriptions  \\\n",
       "0  4-H Vernon After School Enrichment Club throug...   \n",
       "1                                                NaN   \n",
       "2  Bible Studies\\nSocial Gatherings\\nPrayer Meeti...   \n",
       "3                                                NaN   \n",
       "4  The Accounting Society works very closely with...   \n",
       "\n",
       "                                           Club Urls  \n",
       "0  https://uconntact.uconn.edu/organization/co4hv...  \n",
       "1  https://uconntact.uconn.edu/organization/acomp...  \n",
       "2  https://uconntact.uconn.edu/organization/apchr...  \n",
       "3       https://uconntact.uconn.edu/organization/aac  \n",
       "4  https://uconntact.uconn.edu/organization/accou...  "
      ]
     },
     "execution_count": 2,
     "metadata": {},
     "output_type": "execute_result"
    }
   ],
   "source": [
    "df = pd.read_csv(\"UCONN_CLUB_INFO.csv\")\n",
    "df.drop(\"Unnamed: 0\", axis=1, inplace=True)\n",
    "df.head()"
   ]
  },
  {
   "cell_type": "code",
   "execution_count": 11,
   "metadata": {},
   "outputs": [
    {
     "data": {
      "text/plain": [
       "True"
      ]
     },
     "execution_count": 11,
     "metadata": {},
     "output_type": "execute_result"
    }
   ],
   "source": [
    "load_dotenv()"
   ]
  },
  {
   "cell_type": "code",
   "execution_count": 6,
   "metadata": {},
   "outputs": [],
   "source": [
    "max_retries = 5\n",
    "initial_backoff = 1  \n",
    "\n",
    "@retry(stop_max_attempt_number=max_retries, wait_exponential_multiplier=1000, wait_exponential_max=10000)\n",
    "def make_embedding_request(input_text):\n",
    "    response = openai.Embedding.create(\n",
    "        input=input_text,\n",
    "        model=\"text-embedding-ada-002\"\n",
    "    )\n",
    "    return response['data'][0]['embedding']\n",
    "\n",
    "allclubsembds = []\n",
    "shortembds = []\n",
    "descembds = []\n",
    "nameembds = []\n",
    "for i in range(len(df)):\n",
    "    cn = df.loc[i][\"Club Names\"]\n",
    "    ct = df.loc[i][\"Club Short Descriptions\"]\n",
    "    cd = df.loc[i][\"Club Long Descriptions\"]\n",
    "    if isinstance(cd, str):\n",
    "        try:\n",
    "            cn_embedding = make_embedding_request(cn)\n",
    "            nameembds.append(cn_embedding)\n",
    "            ct_embedding = make_embedding_request(ct)\n",
    "            shortembds.append(ct_embedding)\n",
    "            cd_embedding = make_embedding_request(cd)\n",
    "            descembds.append(cd_embedding)\n",
    "            cnctcd = list((0.15 * np.array(cn_embedding)) + (0.35 * np.array(ct_embedding)) + (0.5 * np.array(cd_embedding)))\n",
    "            allclubsembds.append(cnctcd)\n",
    "        except openai.error.APIError as e:\n",
    "            print(\"API Error occurred:\", e)\n",
    "    else:\n",
    "        try:\n",
    "            cn_embedding = make_embedding_request(cn)\n",
    "            nameembds.append(cn_embedding)\n",
    "            ct_embedding = make_embedding_request(ct)\n",
    "            shortembds.append(ct_embedding)\n",
    "            cnct = list((0.15 * np.array(cn_embedding)) + (0.85 * np.array(ct_embedding)))\n",
    "            allclubsembds.append(cnct)\n",
    "        except openai.error.APIError as e:\n",
    "            print(\"API Error occurred:\", e)"
   ]
  },
  {
   "cell_type": "code",
   "execution_count": 7,
   "metadata": {},
   "outputs": [],
   "source": [
    "np.save(\"club_short_desc_embeds.npy\", np.array(shortembds))\n",
    "np.save(\"club_titles_embeds.npy\", np.array(nameembds))\n",
    "np.save(\"club_long_desc_embeds.npy\", np.array(descembds))\n",
    "np.save(\"allclubsembds.npy\", np.array(allclubsembds))"
   ]
  },
  {
   "cell_type": "code",
   "execution_count": 22,
   "metadata": {},
   "outputs": [],
   "source": [
    "pinecone.init(api_key=os.getenv(\"PINECONE_API_KEY\"), environment='asia-southeast1-gcp-free')"
   ]
  },
  {
   "cell_type": "code",
   "execution_count": 23,
   "metadata": {},
   "outputs": [],
   "source": [
    "index = pinecone.Index(\"clubs-index\")"
   ]
  },
  {
   "cell_type": "code",
   "execution_count": 24,
   "metadata": {},
   "outputs": [],
   "source": [
    "vecs = []\n",
    "for i in range(len(df)):\n",
    "    mtdta = dict()\n",
    "    if isinstance(df.loc[i][\"Club Long Descriptions\"], str):\n",
    "        mtdta[\"Club Long Description\"] = df.loc[i][\"Club Long Descriptions\"]\n",
    "    else:\n",
    "        mtdta[\"Club Long Description\"] = \"\"\n",
    "    mtdta[\"Club Short Description\"] = df.loc[i][\"Club Short Descriptions\"]\n",
    "    mtdta[\"Club Name\"] = df.loc[i][\"Club Names\"]\n",
    "    vecs.append((df.loc[i][\"Club Urls\"], allclubsembds[i], mtdta))\n",
    "    "
   ]
  },
  {
   "cell_type": "code",
   "execution_count": 25,
   "metadata": {},
   "outputs": [],
   "source": [
    "def chunks(iterable, batch_size=100):\n",
    "    it = iter(iterable)\n",
    "    chunk = tuple(itertools.islice(it, batch_size))\n",
    "    while chunk:\n",
    "        yield chunk\n",
    "        chunk = tuple(itertools.islice(it, batch_size))\n",
    "\n",
    "for ids_vectors_chunk in chunks(vecs, batch_size=100):\n",
    "    index.upsert(vectors=ids_vectors_chunk, namespace=\"uconn-clubs\")  "
   ]
  },
  {
   "cell_type": "code",
   "execution_count": 49,
   "metadata": {},
   "outputs": [
    {
     "name": "stdout",
     "output_type": "stream",
     "text": [
      "<class 'pinecone.core.client.model.query_response.QueryResponse'>\n"
     ]
    }
   ],
   "source": [
    "response = openai.Embedding.create(\n",
    "    input=\"computer science\",\n",
    "    model=\"text-embedding-ada-002\"\n",
    ")\n",
    "query_embedding = response['data'][0]['embedding']\n",
    "query_response = index.query(\n",
    "    namespace='uconn-clubs',\n",
    "    top_k=10,\n",
    "    include_values=True,\n",
    "    include_metadata=True,\n",
    "    vector=query_embedding,\n",
    ")\n",
    "print(type(query_response))"
   ]
  },
  {
   "cell_type": "code",
   "execution_count": 50,
   "metadata": {},
   "outputs": [
    {
     "name": "stdout",
     "output_type": "stream",
     "text": [
      "Course:  https://uconntact.uconn.edu/organization/datascience\n",
      "Description:  Data Science, UConn\n",
      "\n",
      "\n",
      "Course:  https://uconntact.uconn.edu/organization/wics\n",
      "Description:  Women in Computer Science\n",
      "\n",
      "\n",
      "Course:  https://uconntact.uconn.edu/organization/msbapm_\n",
      "Description:  MS in Business Analytics and Project Management\n",
      "\n",
      "\n",
      "Course:  https://uconntact.uconn.edu/organization/ieee\n",
      "Description:  Electrical and Electronics Engineers, The Institute of (IEEE)\n",
      "\n",
      "\n",
      "Course:  https://uconntact.uconn.edu/organization/pcbuildingclub\n",
      "Description:  PC Building Club\n",
      "\n",
      "\n",
      "Course:  https://uconntact.uconn.edu/organization/createcommunicate\n",
      "Description:  Create and Communicate\n",
      "\n",
      "\n",
      "Course:  https://uconntact.uconn.edu/organization/uconnaiclub\n",
      "Description:  Artificial Intelligence Club, UConn\n",
      "\n",
      "\n",
      "Course:  https://uconntact.uconn.edu/organization/uconncyber\n",
      "Description:  Cyber, UConn\n",
      "\n",
      "\n",
      "Course:  https://uconntact.uconn.edu/organization/csd\n",
      "Description:  Center for Students with Disabilities\n",
      "\n",
      "\n",
      "Course:  https://uconntact.uconn.edu/organization/frost\n",
      "Description:  FROST Robotics\n",
      "\n",
      "\n"
     ]
    }
   ],
   "source": [
    "for m in query_response[\"matches\"]:\n",
    "    # print(m.keys())\n",
    "    print(\"Course: \", m[\"id\"])\n",
    "    print(\"Description: \", m[\"metadata\"][\"Club Name\"])\n",
    "    print()\n",
    "    print()"
   ]
  },
  {
   "cell_type": "code",
   "execution_count": null,
   "metadata": {},
   "outputs": [],
   "source": [
    "query_response[\"matches\"][9]"
   ]
  },
  {
   "cell_type": "code",
   "execution_count": 12,
   "metadata": {},
   "outputs": [],
   "source": [
    "pinecone.init(api_key=os.getenv(\"PINECONE_API_KEY\"), environment='asia-southeast1-gcp-free')\n",
    "index = pinecone.Index(\"clubs-index\")\n",
    "delete_response = index.delete(ids=['https://uconntact.uconn.edu/organization/soccerclubuconnmens'], namespace='uconn-clubs')"
   ]
  },
  {
   "cell_type": "code",
   "execution_count": null,
   "metadata": {},
   "outputs": [],
   "source": []
  }
 ],
 "metadata": {
  "kernelspec": {
   "display_name": "Python 3",
   "language": "python",
   "name": "python3"
  },
  "language_info": {
   "codemirror_mode": {
    "name": "ipython",
    "version": 3
   },
   "file_extension": ".py",
   "mimetype": "text/x-python",
   "name": "python",
   "nbconvert_exporter": "python",
   "pygments_lexer": "ipython3",
   "version": "3.9.13"
  }
 },
 "nbformat": 4,
 "nbformat_minor": 4
}
